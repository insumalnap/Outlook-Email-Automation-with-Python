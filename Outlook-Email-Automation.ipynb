{
 "cells": [
  {
   "attachments": {},
   "cell_type": "markdown",
   "id": "4ea1a509",
   "metadata": {},
   "source": [
    "# Outlook Email Automation with Python\n",
    "---\n",
    "**Business Problem:**\n",
    "\n",
    "According to a study by [Mckinsey](https://www.mckinsey.com/industries/technology-media-and-telecommunications/our-insights/the-social-economy), employees spend roughly 28% of their workweek managing emails. Many of us waste time on repetitive email tasks such as sending multiple emails, attaching files to emails, and saving attachments from emails.\n",
    "\n",
    "**Proposed Solution:**\n",
    "\n",
    "We can use Python to automate several email-related tasks in order to reallocate some of the time spent on email management to more value-adding activities.\n",
    "\n",
    "**Expected Results:**\n",
    "\n",
    "1. Increased workplace productivity and efficiency - Employees will have more time to spend on more productive activities.\n",
    "2. Reduced errors - There will be fewer errors and rework since there is less manual intervention."
   ]
  },
  {
   "cell_type": "markdown",
   "id": "fb171b2f",
   "metadata": {},
   "source": [
    "## Getting started\n",
    "\n",
    "This project demonstrates some of the email operations that we can automate with Python.\n",
    "\n",
    "Let's start by installing **pywin32** via pip. "
   ]
  },
  {
   "cell_type": "code",
   "execution_count": null,
   "id": "3e850004",
   "metadata": {},
   "outputs": [],
   "source": [
    "pip install pywin32"
   ]
  },
  {
   "cell_type": "markdown",
   "id": "ceb2154f",
   "metadata": {},
   "source": [
    "In order to use pywin32, we need to import **win32.client**. We also have to import other modules that we'll use for this project."
   ]
  },
  {
   "cell_type": "code",
   "execution_count": 2,
   "id": "2f5d19ab",
   "metadata": {},
   "outputs": [],
   "source": [
    "import win32com.client as client\n",
    "import pathlib\n",
    "from time import sleep\n",
    "import pandas as pd\n",
    "import os"
   ]
  },
  {
   "attachments": {},
   "cell_type": "markdown",
   "id": "2b51e23d",
   "metadata": {},
   "source": [
    "Next, we have to connect to Outlook."
   ]
  },
  {
   "cell_type": "code",
   "execution_count": 3,
   "id": "463e6f30",
   "metadata": {},
   "outputs": [],
   "source": [
    "outlook = client.Dispatch('Outlook.Application')"
   ]
  },
  {
   "cell_type": "markdown",
   "id": "0dc95170",
   "metadata": {},
   "source": [
    "## Sending emails"
   ]
  },
  {
   "cell_type": "code",
   "execution_count": 4,
   "id": "ad5c0714",
   "metadata": {},
   "outputs": [],
   "source": [
    "email_to = 'recipient@email.com' "
   ]
  },
  {
   "attachments": {},
   "cell_type": "markdown",
   "id": "d49fc9ae",
   "metadata": {},
   "source": [
    "### Sending a plain text email\n",
    "\n",
    "To send a plain text email:\n",
    "1. Instantiate a new email using **outlook.CreateItem(0)**. \n",
    "2. Add a recipient by assigning the email address to **msg.To**, **msg.CC** or **msg.BCC**.\n",
    "3. Assign the subject and the plain text message to **msg.Subject** and **msg.Body**, respectively.\n",
    "4. Save the email in Drafts using **msg.Save()** or send it directly using **msg.Send()**."
   ]
  },
  {
   "cell_type": "code",
   "execution_count": null,
   "id": "6a1de1d8",
   "metadata": {},
   "outputs": [],
   "source": [
    "msg = outlook.CreateItem(0)  # new email\n",
    "\n",
    "msg.To = email_to\n",
    "msg.Subject = 'Test'\n",
    "msg.Body = 'Hello! This is a test email'  # plain text message\n",
    "\n",
    "msg.Save()\n",
    "msg.Send()"
   ]
  },
  {
   "attachments": {},
   "cell_type": "markdown",
   "id": "21b5047f",
   "metadata": {},
   "source": [
    "### Sending an HTML-formatted email\n",
    "\n",
    "To send an email in HTML format, simply repeat the steps for creating a plain text email; but instead of setting a plain text message to msg.Body, assign an HTML-formatted message to **msg.HTMLBody**."
   ]
  },
  {
   "cell_type": "code",
   "execution_count": null,
   "id": "1fe45130",
   "metadata": {},
   "outputs": [],
   "source": [
    "msg = outlook.CreateItem(0)\n",
    "\n",
    "msg.To = email_to\n",
    "msg.Subject = 'Test'\n",
    "body = '''\n",
    "<h1 style=\"font-family: Tahoma; font-size: 36; font-weight: bold; color: #00c0ef;\">\n",
    "    Hello! \n",
    "</h1>\n",
    "<span style=\"font-family: Arial; font-size: 28; color: #0073b7;\">\n",
    "    This is a test email.\n",
    "</span>\n",
    "<br>\n",
    "<img src=\"https://image.cnbcfm.com/api/v1/image/102962809-maxresdefault.jpg?\" width=30%>\n",
    "'''\n",
    "msg.HTMLBody = body  # html message\n",
    "\n",
    "msg.Send()"
   ]
  },
  {
   "attachments": {},
   "cell_type": "markdown",
   "id": "9d8d4e80",
   "metadata": {},
   "source": [
    "### Sending an email with attachment\n",
    "\n",
    "To send an email with attachment, follow the procedure for creating an email (plain or HTML) then use **msg.Attachments.Add(file)** to attach a file. Note that the absolute path of the file should be used when adding attachments to Outlook."
   ]
  },
  {
   "cell_type": "code",
   "execution_count": 32,
   "id": "371051e2",
   "metadata": {},
   "outputs": [],
   "source": [
    "msg = outlook.CreateItem(0)\n",
    "\n",
    "msg.To = email_to\n",
    "msg.Subject = 'Test'\n",
    "\n",
    "test_file = str(pathlib.Path('sample_files/test_file.pdf').absolute())  # absolute path\n",
    "msg.Attachments.Add(test_file)  # attach file\n",
    "\n",
    "body = '''\n",
    "<h1 style=\"font-family: Tahoma; font-size: 36; font-weight: bold; color: #00c0ef;\">\n",
    "    Hello! \n",
    "</h1>\n",
    "<span style=\"font-family: Arial; font-size: 28; color: #0073b7;\">\n",
    "    This is a test email.\n",
    "</span>\n",
    "'''\n",
    "msg.HTMLBody = body\n",
    "\n",
    "msg.Send()"
   ]
  },
  {
   "cell_type": "markdown",
   "id": "8a172773",
   "metadata": {},
   "source": [
    "### Sending an email to multiple recipients\n",
    "Note: Outlook has a cap of 500 recipients for each individual email."
   ]
  },
  {
   "attachments": {},
   "cell_type": "markdown",
   "id": "22f96124",
   "metadata": {},
   "source": [
    "**Email with less than 500 recipients**\n",
    "\n",
    "To send an email to less than 500 recipients, simply join the email addresses using a semi-colon and assign it to **msg.To**."
   ]
  },
  {
   "cell_type": "code",
   "execution_count": null,
   "id": "d081cc91",
   "metadata": {},
   "outputs": [],
   "source": [
    "# For demonstration purposes, a distribution list with less than 500 recipients was created.\n",
    "dlist = [email_to for _ in range(450)] \n",
    "\n",
    "msg = outlook.CreateItem(0)\n",
    "\n",
    "msg.To = ';'.join(dlist)  # join the email addresses\n",
    "msg.Subject = 'Test'\n",
    "msg.Body = 'Hello! This is a test email' \n",
    "\n",
    "msg.Send()"
   ]
  },
  {
   "attachments": {},
   "cell_type": "markdown",
   "id": "06a79fc1",
   "metadata": {},
   "source": [
    "**Email with more than 500 recipients.**\n",
    "\n",
    "To send an email to more than 500 recipients:\n",
    "1. Generate chunks of the email address list, which contains at most 500 email addresses each.\n",
    "2. Loop over the chunks and create a new email for each chunk.\n",
    "3. Join the email addresses using a semi-colon and assign it to **msg.To**"
   ]
  },
  {
   "cell_type": "code",
   "execution_count": null,
   "id": "a3a69966",
   "metadata": {},
   "outputs": [],
   "source": [
    "# For demonstration purposes, a distribution list with more than 500 recipients was created.\n",
    "dlist = [email_to for _ in range(650)]\n",
    "\n",
    "chunks = [dlist[i:i+500] for i in range(0,len(dlist),500)]  # chunks with <= 500 addresses each\n",
    "\n",
    "for chunk in chunks:\n",
    "    msg = outlook.CreateItem(0)  # new email for each chunk\n",
    "    msg.To = ';'.join(chunk)\n",
    "    msg.Subject = 'Test'\n",
    "    msg.Body = 'Hello! This is a test email'\n",
    "    msg.Send()  "
   ]
  },
  {
   "cell_type": "markdown",
   "id": "4e042688",
   "metadata": {},
   "source": [
    "### Sending multiple emails\n",
    "Note: Outlook has a cap of 30 outgoing emails per minute."
   ]
  },
  {
   "attachments": {},
   "cell_type": "markdown",
   "id": "64b5dd73",
   "metadata": {},
   "source": [
    "**Emails sent individually to less than 30 email addresses**\n",
    "\n",
    "To send separate emails to less than 30 recipients, loop over the list of recipients and create/send a new email for each. By doing so, the emails are sent one after another."
   ]
  },
  {
   "cell_type": "code",
   "execution_count": null,
   "id": "bccb7399",
   "metadata": {},
   "outputs": [],
   "source": [
    "# For demonstration purposes, a distribution list in csv format with <30 names and email addresses in the first and second columns is created.\n",
    "emp = pd.read_csv('sample_files/employees_1.csv') \n",
    "\n",
    "dlist = emp.values.tolist()\n",
    "\n",
    "for name, email in dlist:\n",
    "    msg = outlook.CreateItem(0)  # new email for each recipient\n",
    "    msg.To = email\n",
    "    msg.Subject = 'Test'\n",
    "    msg.Body = f'Hello, {name}! This is a test email.'\n",
    "    msg.Send()"
   ]
  },
  {
   "attachments": {},
   "cell_type": "markdown",
   "id": "6a662b44",
   "metadata": {},
   "source": [
    "**Emails sent individually to more than 30 email addresses**\n",
    "\n",
    "To send separate emails to more than 30 recipients:\n",
    "1. Generate chunks of the recipients list, which contains at most 30 email addresses each.\n",
    "2. Loop over the chunks and create/send a new email for each recipient in the chunk.\n",
    "3. Add a 60 second sleep before proceeding to the next chunk because the cap only allows 30 outgoing messages per minute."
   ]
  },
  {
   "cell_type": "code",
   "execution_count": null,
   "id": "79740cf4",
   "metadata": {},
   "outputs": [],
   "source": [
    "# For demonstration purposes, a distribution list in csv format with >30 names and email addresses in the first and second columns is created.\n",
    "emp = pd.read_csv('sample_files/employees_2.csv')\n",
    "dlist = emp.values.tolist() \n",
    "\n",
    "chunks = [dlist[i:i+30] for i in range(0,len(dlist),30)]  # chunks with <= 30 recipients each\n",
    "\n",
    "for chunk in chunks:\n",
    "    for name, email in chunk:\n",
    "        msg = outlook.CreateItem(0)\n",
    "        msg.To = email\n",
    "        msg.Subject = 'Test'\n",
    "        msg.Body = f'Hello, {name}! This is a test email.'\n",
    "        msg.Send()\n",
    "    sleep(60)  # wait 1 minute before processing the next chunk"
   ]
  },
  {
   "attachments": {},
   "cell_type": "markdown",
   "id": "bf015d85",
   "metadata": {},
   "source": [
    "### Sending emails with embedded spreadsheet (Excel) table\n",
    "\n",
    "To add a table into the body of an email, \n",
    "1. Read the table from the Excel file into a pandas DataFrame.\n",
    "2. Convert the dataframe to HTML format.\n",
    "3. Place the HTML-formatted table in the HTML body."
   ]
  },
  {
   "cell_type": "code",
   "execution_count": 12,
   "id": "fbd73458",
   "metadata": {},
   "outputs": [],
   "source": [
    "tbl = pd.read_excel('sample_files/employees.xlsx')  # table as dataframe\n",
    "html_tbl = tbl.to_html(index=False)  # table in html format\n",
    "\n",
    "msg = outlook.CreateItem(0)\n",
    "\n",
    "msg.To = email_to\n",
    "msg.Subject = 'Test'\n",
    "msg.HTMLBody = f'''\n",
    "<span style=\"font-family: 'Arial'; font-size: 15; color: #0000ff;\">\n",
    "This is a test email with a table.\n",
    "</span>\n",
    "<br><br>\n",
    "{html_tbl}\n",
    "'''\n",
    "\n",
    "msg.Send()"
   ]
  },
  {
   "attachments": {},
   "cell_type": "markdown",
   "id": "ae7ec28b",
   "metadata": {},
   "source": [
    "## Organizing Outlook folders and emails\n",
    "\n",
    "### Folder management\n",
    "\n",
    "In order to access default folders in Outlook, we need to get the NameSpace object first. Go to this [page](https://learn.microsoft.com/en-us/office/vba/api/outlook.namespace) to learn more about Outlook's NameSpace object."
   ]
  },
  {
   "cell_type": "code",
   "execution_count": 5,
   "id": "f24a6d25",
   "metadata": {},
   "outputs": [],
   "source": [
    "namespace = outlook.GetNamespace(\"MAPI\")  # get namespace object"
   ]
  },
  {
   "attachments": {},
   "cell_type": "markdown",
   "id": "4082e147",
   "metadata": {},
   "source": [
    "Once the NameSpace object is returned, we can now access the default folders of Outlook such as Inbox and Drafts. Refer to this [link](https://learn.microsoft.com/en-us/office/vba/api/outlook.oldefaultfolders) for more information on Outlook's default folders."
   ]
  },
  {
   "cell_type": "code",
   "execution_count": 6,
   "id": "1f4a641d",
   "metadata": {},
   "outputs": [],
   "source": [
    "# some of Outlook's default folders\n",
    "inbox = namespace.GetDefaultFolder(6)\n",
    "drafts = namespace.GetDefaultFolder(16)"
   ]
  },
  {
   "cell_type": "code",
   "execution_count": 7,
   "id": "4b718aeb",
   "metadata": {
    "scrolled": false
   },
   "outputs": [
    {
     "name": "stdout",
     "output_type": "stream",
     "text": [
      "Important\n",
      "Promotions\n"
     ]
    }
   ],
   "source": [
    "# all folders in my Inbox\n",
    "for folder in inbox.Folders:\n",
    "    print(folder.Name)"
   ]
  },
  {
   "cell_type": "markdown",
   "id": "9bda6cf9",
   "metadata": {},
   "source": [
    "Folders inside the default folders can be accessed in three different ways. Below shows how to get the first folder in my Inbox which is *Important* "
   ]
  },
  {
   "cell_type": "code",
   "execution_count": 8,
   "id": "ff646910",
   "metadata": {},
   "outputs": [],
   "source": [
    "important = inbox.Folders['Important']\n",
    "important = inbox.Folders[0]  # zero-indexed\n",
    "important = inbox.Folders.Item(1)"
   ]
  },
  {
   "attachments": {},
   "cell_type": "markdown",
   "id": "f286baa8",
   "metadata": {},
   "source": [
    "Below shows how to add, move and delete folders. Check this [link](https://docs.microsoft.com/en-us/office/vba/api/outlook.folder) for other folder methods and properties."
   ]
  },
  {
   "cell_type": "code",
   "execution_count": 9,
   "id": "fe5576c0",
   "metadata": {},
   "outputs": [],
   "source": [
    "social = inbox.Folders.Add('Social')\n",
    "social.MoveTo(important)\n",
    "social.Delete()"
   ]
  },
  {
   "cell_type": "markdown",
   "id": "5f59f587",
   "metadata": {},
   "source": [
    "### Email management"
   ]
  },
  {
   "cell_type": "markdown",
   "id": "ebe87621",
   "metadata": {},
   "source": [
    "Emails inside the default folders can be accessed in two ways. Below shows how to get the first email in my Inbox."
   ]
  },
  {
   "cell_type": "code",
   "execution_count": 14,
   "id": "ad50bcb0",
   "metadata": {},
   "outputs": [],
   "source": [
    "message = inbox.Items[0]  # zero-indexed\n",
    "message = inbox.Items.Item(1)"
   ]
  },
  {
   "cell_type": "code",
   "execution_count": 13,
   "id": "eaee784f",
   "metadata": {},
   "outputs": [
    {
     "name": "stdout",
     "output_type": "stream",
     "text": [
      "Edit your presentation notes in PowerPoint Presenter view\n",
      "Easily manipulate text and arrays with new functions in Excel\n",
      "Dev Essentials - Build and test low-code apps and workflows for free\n",
      "Updates to our terms of use\n",
      "Dev Essentials - Announcing: .NET Multi-platform App UI is generally available\n",
      "Preview the new Outlook for Windows\n",
      "Make the most of Excel on your iPhone or iPad\n"
     ]
    }
   ],
   "source": [
    "# all emails in my Inbox\n",
    "for item in inbox.Items:\n",
    "    print(item.Subject)"
   ]
  },
  {
   "attachments": {},
   "cell_type": "markdown",
   "id": "0ef2ab24",
   "metadata": {},
   "source": [
    "Below demonstrates how to filter and move emails. Refer to this [link](https://docs.microsoft.com/en-us/office/vba/api/Outlook.MailItem) for other mail methods and properties."
   ]
  },
  {
   "cell_type": "code",
   "execution_count": 15,
   "id": "0bf64b8a",
   "metadata": {},
   "outputs": [],
   "source": [
    "# filter based on subject\n",
    "for item in inbox.Items:\n",
    "    if 'dev' in item.Subject.lower():\n",
    "        item.Move(important)"
   ]
  },
  {
   "cell_type": "code",
   "execution_count": 16,
   "id": "7494f63e",
   "metadata": {},
   "outputs": [],
   "source": [
    "# emails with attachment\n",
    "for item in inbox.Items:\n",
    "    if item.Attachments.Count > 0:\n",
    "        item.Move(important)"
   ]
  },
  {
   "attachments": {},
   "cell_type": "markdown",
   "id": "7780bc9f",
   "metadata": {},
   "source": [
    "## Reading emails\n",
    "\n",
    "### Getting email details\n",
    "\n",
    "To store email details in a pandas DataFrame:\n",
    "1. Identify the folder where the desired emails are saved.\n",
    "2. Access the emails and get the email information needed. Store the information in a list.\n",
    "3. Convert the list into a DataFrame."
   ]
  },
  {
   "cell_type": "code",
   "execution_count": 17,
   "id": "4bb56837",
   "metadata": {},
   "outputs": [
    {
     "name": "stdout",
     "output_type": "stream",
     "text": [
      "             Date Sent                                 Sender  \\\n",
      "0  2022-05-20 02:12:45             reply@e-mail.microsoft.com   \n",
      "1  2022-04-27 02:10:34             reply@e-mail.microsoft.com   \n",
      "2  2022-06-29 04:41:43        msa@communication.microsoft.com   \n",
      "3  2022-06-24 02:15:16             reply@e-mail.microsoft.com   \n",
      "4  2022-06-06 02:01:06  MicrosoftOfficeApps@email2.office.com   \n",
      "\n",
      "                                             Subject  \n",
      "0  Edit your presentation notes in PowerPoint Pre...  \n",
      "1  Easily manipulate text and arrays with new fun...  \n",
      "2                        Updates to our terms of use  \n",
      "3                Preview the new Outlook for Windows  \n",
      "4      Make the most of Excel on your iPhone or iPad  \n"
     ]
    }
   ],
   "source": [
    "# For demonstation purposes, only the date sent, sender's email address and email subject are used.\n",
    "inbox = namespace.GetDefaultFolder(6)  # source folder\n",
    "\n",
    "email_list = [(str(item.SentOn).split('+')[0], item.SenderEmailAddress, item.Subject) for item in inbox.Items]\n",
    "\n",
    "df = pd.DataFrame(email_list, columns=['Date Sent', 'Sender', 'Subject'])\n",
    "print(df)"
   ]
  },
  {
   "attachments": {},
   "cell_type": "markdown",
   "id": "ffd2c68c",
   "metadata": {},
   "source": [
    "### Saving email attachments\n",
    "\n",
    "To save files attached in an email:\n",
    "1. Identify the directory where you want the attachments saved.\n",
    "2. Access the desired emails and save the attachments in the directory."
   ]
  },
  {
   "cell_type": "code",
   "execution_count": 18,
   "id": "8f960907",
   "metadata": {},
   "outputs": [],
   "source": [
    "save_dir = 'C:\\\\Users\\\\NicoleSumalnap\\\\{}'\n",
    "\n",
    "for item in inbox.Items:\n",
    "    if item.Attachments.Count > 0:\n",
    "        for file in item.Attachments:  # in case there are multiple attachments in the email\n",
    "            file.SaveAsFile(save_dir.format(file.FileName))  # you can change the filename here"
   ]
  }
 ],
 "metadata": {
  "kernelspec": {
   "display_name": "Python 3.9.5 ('base')",
   "language": "python",
   "name": "python3"
  },
  "language_info": {
   "codemirror_mode": {
    "name": "ipython",
    "version": 3
   },
   "file_extension": ".py",
   "mimetype": "text/x-python",
   "name": "python",
   "nbconvert_exporter": "python",
   "pygments_lexer": "ipython3",
   "version": "3.9.5 (default, May 18 2021, 14:42:02) [MSC v.1916 64 bit (AMD64)]"
  },
  "vscode": {
   "interpreter": {
    "hash": "55f04e5803263345b51197006ce490d2d19ae80d1bcc9b1d99b56232eafd9831"
   }
  }
 },
 "nbformat": 4,
 "nbformat_minor": 5
}
